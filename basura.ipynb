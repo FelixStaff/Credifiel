{
 "cells": [
  {
   "cell_type": "code",
   "execution_count": 1,
   "id": "e76a1d49",
   "metadata": {},
   "outputs": [],
   "source": [
    "import pandas as pd\n",
    "import numpy as np\n",
    "import sklearn as sk\n",
    "import matplotlib.pyplot as plt\n",
    "from tqdm import tqdm"
   ]
  },
  {
   "cell_type": "code",
   "execution_count": 2,
   "id": "87b0a09d",
   "metadata": {},
   "outputs": [],
   "source": [
    "df = pd.read_csv('Data/ListaCobroDetalle2025.csv')"
   ]
  },
  {
   "cell_type": "code",
   "execution_count": 6,
   "id": "27c6ee7b",
   "metadata": {},
   "outputs": [],
   "source": [
    "# Ordenamos por idCredito y luego contamos la cantidad de valores que tiene en la columna idRespuestaBanco con valor 0\n",
    "df = df.sort_values(by=['idCredito'])\n",
    "df['count'] = df.groupby('idCredito')['idRespuestaBanco'].transform(lambda x: (x == 0).sum())"
   ]
  },
  {
   "cell_type": "code",
   "execution_count": 17,
   "id": "b331ec84",
   "metadata": {},
   "outputs": [
    {
     "name": "stdout",
     "output_type": "stream",
     "text": [
      "         idCredito  count\n",
      "27854         9872      0\n",
      "1709573     693631      0\n",
      "1085182     693635      0\n",
      "254474      693643      0\n",
      "575559      693644      0\n",
      "...            ...    ...\n",
      "591956      693795     31\n",
      "854739      683393     31\n",
      "737045      651081     33\n",
      "49617       711062     37\n",
      "1461495     683816     39\n",
      "\n",
      "[28602 rows x 2 columns]\n",
      "         idCredito  count\n",
      "1046301     645398      2\n",
      "1122302     737985      2\n",
      "207658      523492      2\n",
      "1740876     680198      2\n",
      "1798338     688815      2\n",
      "...            ...    ...\n",
      "591956      693795     31\n",
      "854739      683393     31\n",
      "737045      651081     33\n",
      "49617       711062     37\n",
      "1461495     683816     39\n",
      "\n",
      "[10288 rows x 2 columns]\n"
     ]
    }
   ],
   "source": [
    "counted = df[['idCredito', 'count']].drop_duplicates()\n",
    "counted = counted.sort_values(by=['count'])\n",
    "\n",
    "print(counted)\n",
    "# Cuenta cuantos valores tienen una columna con valor count mayor a 1\n",
    "counted = counted[counted['count'] > 1]\n",
    "print(counted)"
   ]
  },
  {
   "cell_type": "code",
   "execution_count": null,
   "id": "fef2f1e0",
   "metadata": {},
   "outputs": [],
   "source": []
  }
 ],
 "metadata": {
  "kernelspec": {
   "display_name": "MLearn",
   "language": "python",
   "name": "python3"
  },
  "language_info": {
   "codemirror_mode": {
    "name": "ipython",
    "version": 3
   },
   "file_extension": ".py",
   "mimetype": "text/x-python",
   "name": "python",
   "nbconvert_exporter": "python",
   "pygments_lexer": "ipython3",
   "version": "3.11.8"
  }
 },
 "nbformat": 4,
 "nbformat_minor": 5
}
