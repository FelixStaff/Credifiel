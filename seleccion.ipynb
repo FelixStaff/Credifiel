{
 "cells": [
  {
   "cell_type": "code",
   "execution_count": 1,
   "id": "44c00bae",
   "metadata": {},
   "outputs": [],
   "source": [
    "import pandas as pd\n",
    "import numpy as np\n",
    "import sklearn as sk"
   ]
  },
  {
   "cell_type": "code",
   "execution_count": 2,
   "id": "434facda",
   "metadata": {},
   "outputs": [
    {
     "name": "stdout",
     "output_type": "stream",
     "text": [
      "(2114172, 9)\n"
     ]
    },
    {
     "data": {
      "text/html": [
       "<div>\n",
       "<style scoped>\n",
       "    .dataframe tbody tr th:only-of-type {\n",
       "        vertical-align: middle;\n",
       "    }\n",
       "\n",
       "    .dataframe tbody tr th {\n",
       "        vertical-align: top;\n",
       "    }\n",
       "\n",
       "    .dataframe thead th {\n",
       "        text-align: right;\n",
       "    }\n",
       "</style>\n",
       "<table border=\"1\" class=\"dataframe\">\n",
       "  <thead>\n",
       "    <tr style=\"text-align: right;\">\n",
       "      <th></th>\n",
       "      <th>idListaCobro</th>\n",
       "      <th>idCredito</th>\n",
       "      <th>consecutivoCobro</th>\n",
       "      <th>idBanco</th>\n",
       "      <th>montoExigible</th>\n",
       "      <th>montoCobrar</th>\n",
       "      <th>montoCobrado</th>\n",
       "      <th>fechaCobroBanco</th>\n",
       "      <th>idRespuestaBanco</th>\n",
       "    </tr>\n",
       "  </thead>\n",
       "  <tbody>\n",
       "    <tr>\n",
       "      <th>0</th>\n",
       "      <td>155938</td>\n",
       "      <td>738973</td>\n",
       "      <td>41396434</td>\n",
       "      <td>2</td>\n",
       "      <td>622.87</td>\n",
       "      <td>622.87</td>\n",
       "      <td>0.00</td>\n",
       "      <td>NaN</td>\n",
       "      <td>4.0</td>\n",
       "    </tr>\n",
       "    <tr>\n",
       "      <th>1</th>\n",
       "      <td>155938</td>\n",
       "      <td>739017</td>\n",
       "      <td>41396435</td>\n",
       "      <td>2</td>\n",
       "      <td>1069.11</td>\n",
       "      <td>1069.11</td>\n",
       "      <td>0.00</td>\n",
       "      <td>NaN</td>\n",
       "      <td>4.0</td>\n",
       "    </tr>\n",
       "    <tr>\n",
       "      <th>2</th>\n",
       "      <td>155939</td>\n",
       "      <td>739185</td>\n",
       "      <td>41396436</td>\n",
       "      <td>2</td>\n",
       "      <td>4340.83</td>\n",
       "      <td>4340.83</td>\n",
       "      <td>4340.83</td>\n",
       "      <td>02/01/2025</td>\n",
       "      <td>0.0</td>\n",
       "    </tr>\n",
       "    <tr>\n",
       "      <th>3</th>\n",
       "      <td>155940</td>\n",
       "      <td>732324</td>\n",
       "      <td>41396437</td>\n",
       "      <td>2</td>\n",
       "      <td>2134.21</td>\n",
       "      <td>2134.21</td>\n",
       "      <td>0.00</td>\n",
       "      <td>NaN</td>\n",
       "      <td>4.0</td>\n",
       "    </tr>\n",
       "    <tr>\n",
       "      <th>4</th>\n",
       "      <td>155940</td>\n",
       "      <td>737028</td>\n",
       "      <td>41396438</td>\n",
       "      <td>2</td>\n",
       "      <td>815.76</td>\n",
       "      <td>815.76</td>\n",
       "      <td>0.00</td>\n",
       "      <td>NaN</td>\n",
       "      <td>4.0</td>\n",
       "    </tr>\n",
       "  </tbody>\n",
       "</table>\n",
       "</div>"
      ],
      "text/plain": [
       "   idListaCobro  idCredito  consecutivoCobro  idBanco  montoExigible  \\\n",
       "0        155938     738973          41396434        2         622.87   \n",
       "1        155938     739017          41396435        2        1069.11   \n",
       "2        155939     739185          41396436        2        4340.83   \n",
       "3        155940     732324          41396437        2        2134.21   \n",
       "4        155940     737028          41396438        2         815.76   \n",
       "\n",
       "   montoCobrar  montoCobrado fechaCobroBanco  idRespuestaBanco  \n",
       "0       622.87          0.00             NaN               4.0  \n",
       "1      1069.11          0.00             NaN               4.0  \n",
       "2      4340.83       4340.83      02/01/2025               0.0  \n",
       "3      2134.21          0.00             NaN               4.0  \n",
       "4       815.76          0.00             NaN               4.0  "
      ]
     },
     "execution_count": 2,
     "metadata": {},
     "output_type": "execute_result"
    }
   ],
   "source": [
    "df = pd.read_csv('Data/ListaCobroDetalle2025.csv')\n",
    "print (df.shape)\n",
    "df.head()\n"
   ]
  },
  {
   "cell_type": "code",
   "execution_count": 3,
   "id": "8acde900",
   "metadata": {},
   "outputs": [],
   "source": [
    "# Copia la clase para poder hacerle una limpia\n",
    "df2 = df.copy()"
   ]
  },
  {
   "cell_type": "code",
   "execution_count": 4,
   "id": "1db0efb9",
   "metadata": {},
   "outputs": [],
   "source": [
    "# Sortvalues by idCredito\n",
    "df2 = df2.sort_values(by=['idCredito'])\n",
    "if 'fechaCobroBanco' in df2.columns:\n",
    "    df2 = df2.drop(columns=['fechaCobroBanco'])\n",
    "df2 = df2.fillna(0)"
   ]
  },
  {
   "cell_type": "code",
   "execution_count": 5,
   "id": "2d9ea539",
   "metadata": {},
   "outputs": [],
   "source": [
    "# Agregamos un orden\n",
    "df2['orden'] = df2.groupby('idCredito').cumcount()\n"
   ]
  },
  {
   "cell_type": "code",
   "execution_count": 6,
   "id": "413bbb79",
   "metadata": {},
   "outputs": [],
   "source": [
    "# Procesar bancos\n",
    "top4_bancos = df2['idBanco'].value_counts().nlargest(4).index\n",
    "bancos = {12:0, 2:1, 72:2, 21:3}\n",
    "bancos.update({x: 4 for x in df2['idBanco'].unique() if x not in bancos})\n",
    "df2['idBanco'] = df2['idBanco'].apply(lambda x:x if x in top4_bancos else 4)\n",
    "# Dummies\n",
    "df2 = pd.get_dummies(df2, columns=['idBanco'], prefix='banco')\n"
   ]
  },
  {
   "cell_type": "code",
   "execution_count": 7,
   "id": "b91537ad",
   "metadata": {},
   "outputs": [
    {
     "name": "stdout",
     "output_type": "stream",
     "text": [
      "Index(['idListaCobro', 'idCredito', 'consecutivoCobro', 'montoExigible',\n",
      "       'montoCobrar', 'montoCobrado', 'idRespuestaBanco', 'orden', 'banco_2',\n",
      "       'banco_4', 'banco_12', 'banco_21', 'banco_72'],\n",
      "      dtype='object')\n"
     ]
    }
   ],
   "source": [
    "# vemos las columnas\n",
    "print(df2.columns)"
   ]
  },
  {
   "cell_type": "code",
   "execution_count": 8,
   "id": "772656c6",
   "metadata": {},
   "outputs": [],
   "source": [
    "# Agrupamos los creditos\n",
    "df2 = df2.drop(columns=['idListaCobro', 'consecutivoCobro'])\n",
    "# Extraemos los creditos para luego indexar despues\n",
    "creditos = df2['idCredito'].unique()\n",
    "Cobradores = df2.groupby('idCredito')"
   ]
  },
  {
   "cell_type": "code",
   "execution_count": 9,
   "id": "239e379c",
   "metadata": {},
   "outputs": [
    {
     "name": "stdout",
     "output_type": "stream",
     "text": [
      "idCredito\n",
      "9872      18\n",
      "10983      3\n",
      "30466     18\n",
      "31375      2\n",
      "33591      3\n",
      "          ..\n",
      "755683     1\n",
      "755695     1\n",
      "755726     1\n",
      "755859    16\n",
      "756595     5\n",
      "Length: 28602, dtype: int64\n"
     ]
    }
   ],
   "source": [
    "print (Cobradores.size())"
   ]
  },
  {
   "cell_type": "code",
   "execution_count": 10,
   "id": "c9be5ec4",
   "metadata": {},
   "outputs": [
    {
     "name": "stdout",
     "output_type": "stream",
     "text": [
      "28602\n"
     ]
    }
   ],
   "source": [
    "# Creamos el historial del grupo \n",
    "historial_por_grupo = []\n",
    "for _, grupo in Cobradores:\n",
    "    historial_por_grupo.append(grupo.drop(columns=['idCredito']).values.tolist())\n",
    "print (len(historial_por_grupo))"
   ]
  },
  {
   "cell_type": "code",
   "execution_count": 11,
   "id": "ca3b4899",
   "metadata": {},
   "outputs": [
    {
     "data": {
      "text/plain": [
       "<All keys matched successfully>"
      ]
     },
     "execution_count": 11,
     "metadata": {},
     "output_type": "execute_result"
    }
   ],
   "source": [
    "# Sacamos el modelo\n",
    "import torch\n",
    "from models.transaction_classifier import Transaction\n",
    "input_dim = len(historial_por_grupo[0][0])\n",
    "input_history = len(historial_por_grupo[0][0])\n",
    "model = Transaction(input_dim, input_history)\n",
    "model.load_state_dict(torch.load('model_epoch_0_step_2000.pth'))"
   ]
  },
  {
   "cell_type": "code",
   "execution_count": 12,
   "id": "c438b4fb",
   "metadata": {},
   "outputs": [
    {
     "name": "stdout",
     "output_type": "stream",
     "text": [
      "28602\n"
     ]
    }
   ],
   "source": [
    "# Convertimos a vectores los valores\n",
    "from readData import convertir_a_tensor\n",
    "import numpy as np\n",
    "import random\n",
    "\n",
    "labels = [random.randint(0, 2) for _ in range(len(historial_por_grupo))]\n",
    "print(len(labels))\n",
    "train_loader = convertir_a_tensor(historial_por_grupo, labels)"
   ]
  },
  {
   "cell_type": "code",
   "execution_count": 13,
   "id": "6262040a",
   "metadata": {},
   "outputs": [
    {
     "name": "stdout",
     "output_type": "stream",
     "text": [
      "28602\n"
     ]
    }
   ],
   "source": [
    "print (len(list(train_loader)))"
   ]
  },
  {
   "cell_type": "code",
   "execution_count": 14,
   "id": "84c7a34c",
   "metadata": {},
   "outputs": [],
   "source": [
    "from tqdm import tqdm"
   ]
  },
  {
   "cell_type": "code",
   "execution_count": 19,
   "id": "38b0c99d",
   "metadata": {},
   "outputs": [
    {
     "name": "stderr",
     "output_type": "stream",
     "text": [
      "0it [00:00, ?it/s]\n"
     ]
    }
   ],
   "source": [
    "lista_predicciones = []\n",
    "for i,(historical, actual, label) in tqdm(enumerate(train_loader)):\n",
    "    # Enviamos a la GPU\n",
    "    historical = historical.unsqueeze(0)\n",
    "    actual = actual.unsqueeze(0)\n",
    "    # Predecimos\n",
    "    pred = model(historical, actual)\n",
    "    # Convertimos a numpy\n",
    "    pred = pred.cpu().detach().numpy()\n",
    "    # Lo volvemos un valor binario\n",
    "    pred = np.where(pred > 0.5, 1, 0)\n",
    "    # Lo agregamos a la lista\n",
    "    lista_predicciones.append(pred)\n",
    "\n",
    "# Restart the tqdm\n"
   ]
  },
  {
   "cell_type": "code",
   "execution_count": 20,
   "id": "3557fc9c",
   "metadata": {},
   "outputs": [],
   "source": [
    "# Convertimos a un dataframe\n",
    "df_predicciones = pd.DataFrame(lista_predicciones, columns=['prediccion'])"
   ]
  },
  {
   "cell_type": "code",
   "execution_count": 21,
   "id": "1e44140b",
   "metadata": {},
   "outputs": [
    {
     "name": "stdout",
     "output_type": "stream",
     "text": [
      "Empty DataFrame\n",
      "Columns: [prediccion]\n",
      "Index: []\n",
      "(0, 1)\n"
     ]
    }
   ],
   "source": [
    "print (df_predicciones.head())\n",
    "# Vemos el tamaño\n",
    "print (df_predicciones.shape)"
   ]
  },
  {
   "cell_type": "code",
   "execution_count": 18,
   "id": "a6e197b4",
   "metadata": {},
   "outputs": [
    {
     "name": "stdout",
     "output_type": "stream",
     "text": [
      "idCredito\n",
      "9872      18\n",
      "10983      3\n",
      "30466     18\n",
      "31375      2\n",
      "33591      3\n",
      "          ..\n",
      "755683     1\n",
      "755695     1\n",
      "755726     1\n",
      "755859    16\n",
      "756595     5\n",
      "Length: 28602, dtype: int64\n"
     ]
    }
   ],
   "source": [
    "# Vemos el tama;o de los creditos\n",
    "creditos = df.groupby('idCredito').size()\n",
    "print (creditos)\n"
   ]
  },
  {
   "cell_type": "code",
   "execution_count": null,
   "id": "3d4b7ab3",
   "metadata": {},
   "outputs": [],
   "source": []
  }
 ],
 "metadata": {
  "kernelspec": {
   "display_name": "MLearn",
   "language": "python",
   "name": "python3"
  },
  "language_info": {
   "codemirror_mode": {
    "name": "ipython",
    "version": 3
   },
   "file_extension": ".py",
   "mimetype": "text/x-python",
   "name": "python",
   "nbconvert_exporter": "python",
   "pygments_lexer": "ipython3",
   "version": "3.11.8"
  }
 },
 "nbformat": 4,
 "nbformat_minor": 5
}
