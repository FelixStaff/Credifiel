{
 "cells": [
  {
   "cell_type": "code",
   "execution_count": 1,
   "id": "bceb1bd5",
   "metadata": {},
   "outputs": [],
   "source": [
    "import pandas as pd\n",
    "import numpy as np\n",
    "import sklearn as sk"
   ]
  },
  {
   "cell_type": "code",
   "execution_count": 2,
   "id": "22441d57",
   "metadata": {},
   "outputs": [
    {
     "name": "stdout",
     "output_type": "stream",
     "text": [
      "(1681362, 9)\n"
     ]
    },
    {
     "name": "stderr",
     "output_type": "stream",
     "text": [
      "C:\\Users\\Felip\\AppData\\Local\\Temp\\ipykernel_34648\\3329370504.py:1: DtypeWarning: Columns (8) have mixed types. Specify dtype option on import or set low_memory=False.\n",
      "  df = pd.read_csv('Data/ListaCobroDetalle2023.csv')\n"
     ]
    },
    {
     "data": {
      "text/html": [
       "<div>\n",
       "<style scoped>\n",
       "    .dataframe tbody tr th:only-of-type {\n",
       "        vertical-align: middle;\n",
       "    }\n",
       "\n",
       "    .dataframe tbody tr th {\n",
       "        vertical-align: top;\n",
       "    }\n",
       "\n",
       "    .dataframe thead th {\n",
       "        text-align: right;\n",
       "    }\n",
       "</style>\n",
       "<table border=\"1\" class=\"dataframe\">\n",
       "  <thead>\n",
       "    <tr style=\"text-align: right;\">\n",
       "      <th></th>\n",
       "      <th>idListaCobro</th>\n",
       "      <th>idCredito</th>\n",
       "      <th>consecutivoCobro</th>\n",
       "      <th>idBanco</th>\n",
       "      <th>montoExigible</th>\n",
       "      <th>montoCobrar</th>\n",
       "      <th>montoCobrado</th>\n",
       "      <th>fechaCobroBanco</th>\n",
       "      <th>idRespuestaBanco</th>\n",
       "    </tr>\n",
       "  </thead>\n",
       "  <tbody>\n",
       "    <tr>\n",
       "      <th>0</th>\n",
       "      <td>110554</td>\n",
       "      <td>66843</td>\n",
       "      <td>30347299</td>\n",
       "      <td>14</td>\n",
       "      <td>548.30</td>\n",
       "      <td>548.30</td>\n",
       "      <td>0.0</td>\n",
       "      <td>NaN</td>\n",
       "      <td>04</td>\n",
       "    </tr>\n",
       "    <tr>\n",
       "      <th>1</th>\n",
       "      <td>110554</td>\n",
       "      <td>489688</td>\n",
       "      <td>30347298</td>\n",
       "      <td>14</td>\n",
       "      <td>876.61</td>\n",
       "      <td>876.61</td>\n",
       "      <td>0.0</td>\n",
       "      <td>NaN</td>\n",
       "      <td>04</td>\n",
       "    </tr>\n",
       "    <tr>\n",
       "      <th>2</th>\n",
       "      <td>110554</td>\n",
       "      <td>498868</td>\n",
       "      <td>30347295</td>\n",
       "      <td>14</td>\n",
       "      <td>805.02</td>\n",
       "      <td>805.02</td>\n",
       "      <td>0.0</td>\n",
       "      <td>NaN</td>\n",
       "      <td>04</td>\n",
       "    </tr>\n",
       "    <tr>\n",
       "      <th>3</th>\n",
       "      <td>110554</td>\n",
       "      <td>508346</td>\n",
       "      <td>30347296</td>\n",
       "      <td>14</td>\n",
       "      <td>885.29</td>\n",
       "      <td>885.29</td>\n",
       "      <td>0.0</td>\n",
       "      <td>NaN</td>\n",
       "      <td>04</td>\n",
       "    </tr>\n",
       "    <tr>\n",
       "      <th>4</th>\n",
       "      <td>110554</td>\n",
       "      <td>525392</td>\n",
       "      <td>30347300</td>\n",
       "      <td>14</td>\n",
       "      <td>6863.71</td>\n",
       "      <td>6863.71</td>\n",
       "      <td>0.0</td>\n",
       "      <td>NaN</td>\n",
       "      <td>04</td>\n",
       "    </tr>\n",
       "  </tbody>\n",
       "</table>\n",
       "</div>"
      ],
      "text/plain": [
       "   idListaCobro  idCredito  consecutivoCobro  idBanco  montoExigible  \\\n",
       "0        110554      66843          30347299       14         548.30   \n",
       "1        110554     489688          30347298       14         876.61   \n",
       "2        110554     498868          30347295       14         805.02   \n",
       "3        110554     508346          30347296       14         885.29   \n",
       "4        110554     525392          30347300       14        6863.71   \n",
       "\n",
       "   montoCobrar  montoCobrado fechaCobroBanco idRespuestaBanco  \n",
       "0       548.30           0.0             NaN               04  \n",
       "1       876.61           0.0             NaN               04  \n",
       "2       805.02           0.0             NaN               04  \n",
       "3       885.29           0.0             NaN               04  \n",
       "4      6863.71           0.0             NaN               04  "
      ]
     },
     "execution_count": 2,
     "metadata": {},
     "output_type": "execute_result"
    }
   ],
   "source": [
    "df = pd.read_csv('Data/ListaCobroDetalle2023.csv')\n",
    "print (df.shape)\n",
    "df.head()\n"
   ]
  },
  {
   "cell_type": "code",
   "execution_count": 9,
   "id": "ad9c3122",
   "metadata": {
    "vscode": {
     "languageId": "javascript"
    }
   },
   "outputs": [
    {
     "name": "stderr",
     "output_type": "stream",
     "text": [
      "C:\\Users\\Felip\\AppData\\Local\\Temp\\ipykernel_34648\\1602150959.py:11: UserWarning: Parsing dates in %d/%m/%Y format when dayfirst=False (the default) was specified. Pass `dayfirst=True` or specify a format to silence this warning.\n",
      "  df_selected['fechaCobroBanco'] = pd.to_datetime(df_selected['fechaCobroBanco'], errors='coerce')\n"
     ]
    },
    {
     "data": {
      "text/html": [
       "<div>\n",
       "<style scoped>\n",
       "    .dataframe tbody tr th:only-of-type {\n",
       "        vertical-align: middle;\n",
       "    }\n",
       "\n",
       "    .dataframe tbody tr th {\n",
       "        vertical-align: top;\n",
       "    }\n",
       "\n",
       "    .dataframe thead th {\n",
       "        text-align: right;\n",
       "    }\n",
       "</style>\n",
       "<table border=\"1\" class=\"dataframe\">\n",
       "  <thead>\n",
       "    <tr style=\"text-align: right;\">\n",
       "      <th></th>\n",
       "      <th>idListaCobro</th>\n",
       "      <th>idCredito</th>\n",
       "      <th>consecutivoCobro</th>\n",
       "      <th>idBanco</th>\n",
       "      <th>montoExigible</th>\n",
       "      <th>montoCobrar</th>\n",
       "      <th>montoCobrado</th>\n",
       "      <th>fechaCobroBanco</th>\n",
       "      <th>idRespuestaBanco</th>\n",
       "    </tr>\n",
       "  </thead>\n",
       "  <tbody>\n",
       "    <tr>\n",
       "      <th>0</th>\n",
       "      <td>110554</td>\n",
       "      <td>66843</td>\n",
       "      <td>30347299</td>\n",
       "      <td>14</td>\n",
       "      <td>548.30</td>\n",
       "      <td>548.30</td>\n",
       "      <td>0.0</td>\n",
       "      <td>NaT</td>\n",
       "      <td>04</td>\n",
       "    </tr>\n",
       "    <tr>\n",
       "      <th>1</th>\n",
       "      <td>110554</td>\n",
       "      <td>489688</td>\n",
       "      <td>30347298</td>\n",
       "      <td>14</td>\n",
       "      <td>876.61</td>\n",
       "      <td>876.61</td>\n",
       "      <td>0.0</td>\n",
       "      <td>NaT</td>\n",
       "      <td>04</td>\n",
       "    </tr>\n",
       "    <tr>\n",
       "      <th>2</th>\n",
       "      <td>110554</td>\n",
       "      <td>498868</td>\n",
       "      <td>30347295</td>\n",
       "      <td>14</td>\n",
       "      <td>805.02</td>\n",
       "      <td>805.02</td>\n",
       "      <td>0.0</td>\n",
       "      <td>NaT</td>\n",
       "      <td>04</td>\n",
       "    </tr>\n",
       "    <tr>\n",
       "      <th>3</th>\n",
       "      <td>110554</td>\n",
       "      <td>508346</td>\n",
       "      <td>30347296</td>\n",
       "      <td>14</td>\n",
       "      <td>885.29</td>\n",
       "      <td>885.29</td>\n",
       "      <td>0.0</td>\n",
       "      <td>NaT</td>\n",
       "      <td>04</td>\n",
       "    </tr>\n",
       "    <tr>\n",
       "      <th>4</th>\n",
       "      <td>110554</td>\n",
       "      <td>525392</td>\n",
       "      <td>30347300</td>\n",
       "      <td>14</td>\n",
       "      <td>6863.71</td>\n",
       "      <td>6863.71</td>\n",
       "      <td>0.0</td>\n",
       "      <td>NaT</td>\n",
       "      <td>04</td>\n",
       "    </tr>\n",
       "  </tbody>\n",
       "</table>\n",
       "</div>"
      ],
      "text/plain": [
       "   idListaCobro  idCredito  consecutivoCobro  idBanco  montoExigible  \\\n",
       "0        110554      66843          30347299       14         548.30   \n",
       "1        110554     489688          30347298       14         876.61   \n",
       "2        110554     498868          30347295       14         805.02   \n",
       "3        110554     508346          30347296       14         885.29   \n",
       "4        110554     525392          30347300       14        6863.71   \n",
       "\n",
       "   montoCobrar  montoCobrado fechaCobroBanco idRespuestaBanco  \n",
       "0       548.30           0.0             NaT               04  \n",
       "1       876.61           0.0             NaT               04  \n",
       "2       805.02           0.0             NaT               04  \n",
       "3       885.29           0.0             NaT               04  \n",
       "4      6863.71           0.0             NaT               04  "
      ]
     },
     "execution_count": 9,
     "metadata": {},
     "output_type": "execute_result"
    }
   ],
   "source": [
    "df_selected = df[['idListaCobro', 'idCredito', 'consecutivoCobro', 'idBanco', 'montoExigible', 'montoCobrar', 'montoCobrado', 'fechaCobroBanco', 'idRespuestaBanco']]\n",
    "df_selected = df_selected.astype({\n",
    "    'idListaCobro': 'int64',\n",
    "    'idCredito': 'int64',\n",
    "    'consecutivoCobro': 'int64',\n",
    "    'idBanco': 'int64',\n",
    "    'montoExigible': 'float64',\n",
    "    'montoCobrar': 'float64',\n",
    "    'montoCobrado': 'float64',\n",
    "})\n",
    "df_selected['fechaCobroBanco'] = pd.to_datetime(df_selected['fechaCobroBanco'], errors='coerce')\n",
    "df_selected.head()"
   ]
  },
  {
   "cell_type": "code",
   "execution_count": 10,
   "id": "9e31e07e",
   "metadata": {},
   "outputs": [
    {
     "name": "stdout",
     "output_type": "stream",
     "text": [
      "idCredito\n",
      "6           1\n",
      "4635       12\n",
      "4914       12\n",
      "8947       12\n",
      "9872      402\n",
      "         ... \n",
      "689569      1\n",
      "689582      1\n",
      "689593      1\n",
      "689607      1\n",
      "689904      4\n",
      "Length: 41572, dtype: int64\n",
      "714\n",
      "1\n"
     ]
    }
   ],
   "source": [
    "df_grouped = df_selected.sort_values('fechaCobroBanco').groupby('idCredito')\n",
    "print(df_grouped.size())\n",
    "print(df_grouped.size().max())\n",
    "print(df_grouped.size().min())"
   ]
  },
  {
   "cell_type": "code",
   "execution_count": 11,
   "id": "a6378891",
   "metadata": {},
   "outputs": [
    {
     "name": "stdout",
     "output_type": "stream",
     "text": [
      "41572\n"
     ]
    }
   ],
   "source": [
    "# Imprimeme cuantas ids hay y cuantas son unicas\n",
    "print(df_grouped.size().count())"
   ]
  },
  {
   "cell_type": "code",
   "execution_count": 12,
   "id": "751de65d",
   "metadata": {},
   "outputs": [
    {
     "name": "stdout",
     "output_type": "stream",
     "text": [
      "idListaCobro                 int64\n",
      "idCredito                    int64\n",
      "consecutivoCobro             int64\n",
      "idBanco                      int64\n",
      "montoExigible              float64\n",
      "montoCobrar                float64\n",
      "montoCobrado               float64\n",
      "fechaCobroBanco     datetime64[ns]\n",
      "idRespuestaBanco            object\n",
      "dtype: object\n"
     ]
    }
   ],
   "source": [
    "# Ahora imprime las variables y sus tipos\n",
    "print(df_selected.dtypes)"
   ]
  },
  {
   "cell_type": "code",
   "execution_count": 13,
   "id": "1b21c69f",
   "metadata": {},
   "outputs": [
    {
     "data": {
      "text/plain": [
       "idListaCobro                 int64\n",
       "idCredito                    int64\n",
       "consecutivoCobro             int64\n",
       "idBanco                   category\n",
       "montoExigible              float64\n",
       "montoCobrar                float64\n",
       "montoCobrado               float64\n",
       "fechaCobroBanco     datetime64[ns]\n",
       "idRespuestaBanco            object\n",
       "dtype: object"
      ]
     },
     "execution_count": 13,
     "metadata": {},
     "output_type": "execute_result"
    }
   ],
   "source": [
    "# Transformar variables adecuadas a tipo categórico\n",
    "categorical_columns = ['idBanco']\n",
    "df_selected[categorical_columns] = df_selected[categorical_columns].astype('category')\n",
    "df_selected.dtypes"
   ]
  },
  {
   "cell_type": "code",
   "execution_count": 14,
   "id": "5c10a7ec",
   "metadata": {},
   "outputs": [],
   "source": [
    "# aplica dummies a las variables categóricas y pasalos a 01\n",
    "df_dummies = pd.get_dummies(df_selected, columns=categorical_columns)\n",
    "# Todos los bools pasan a 0 y 1, checa todas las variables bool a int8\n",
    "df_dummies = df_dummies.astype({col: np.int8 for col in df_dummies.select_dtypes(include=[bool]).columns})\n"
   ]
  },
  {
   "cell_type": "code",
   "execution_count": 15,
   "id": "04b983e4",
   "metadata": {},
   "outputs": [
    {
     "name": "stdout",
     "output_type": "stream",
     "text": [
      "idListaCobro                 int64\n",
      "idCredito                    int64\n",
      "consecutivoCobro             int64\n",
      "montoExigible              float64\n",
      "montoCobrar                float64\n",
      "montoCobrado               float64\n",
      "fechaCobroBanco     datetime64[ns]\n",
      "idRespuestaBanco            object\n",
      "idBanco_2                     int8\n",
      "idBanco_12                    int8\n",
      "idBanco_14                    int8\n",
      "idBanco_21                    int8\n",
      "idBanco_30                    int8\n",
      "idBanco_36                    int8\n",
      "idBanco_44                    int8\n",
      "idBanco_58                    int8\n",
      "idBanco_62                    int8\n",
      "idBanco_72                    int8\n",
      "idBanco_127                   int8\n",
      "idBanco_131                   int8\n",
      "idBanco_137                   int8\n",
      "idBanco_166                   int8\n",
      "dtype: object\n"
     ]
    }
   ],
   "source": [
    "print(df_dummies.dtypes)"
   ]
  },
  {
   "cell_type": "code",
   "execution_count": 11,
   "id": "49a5f968",
   "metadata": {},
   "outputs": [],
   "source": [
    "# Guarda la version limpia como Data/CleanedData.csv\n",
    "df_dummies.to_csv('Data/CleanedData2023.csv', index=False)"
   ]
  },
  {
   "cell_type": "code",
   "execution_count": null,
   "id": "2047cbcf",
   "metadata": {},
   "outputs": [],
   "source": []
  }
 ],
 "metadata": {
  "kernelspec": {
   "display_name": "MLearn",
   "language": "python",
   "name": "python3"
  },
  "language_info": {
   "codemirror_mode": {
    "name": "ipython",
    "version": 3
   },
   "file_extension": ".py",
   "mimetype": "text/x-python",
   "name": "python",
   "nbconvert_exporter": "python",
   "pygments_lexer": "ipython3",
   "version": "3.11.8"
  }
 },
 "nbformat": 4,
 "nbformat_minor": 5
}
