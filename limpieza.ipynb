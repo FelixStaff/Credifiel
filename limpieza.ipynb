{
 "cells": [
  {
   "cell_type": "code",
   "execution_count": 46,
   "id": "bceb1bd5",
   "metadata": {},
   "outputs": [],
   "source": [
    "import pandas as pd\n",
    "import numpy as np\n",
    "import sklearn as sk"
   ]
  },
  {
   "cell_type": "code",
   "execution_count": 47,
   "id": "22441d57",
   "metadata": {},
   "outputs": [
    {
     "name": "stdout",
     "output_type": "stream",
     "text": [
      "(2114172, 9)\n"
     ]
    },
    {
     "data": {
      "text/html": [
       "<div>\n",
       "<style scoped>\n",
       "    .dataframe tbody tr th:only-of-type {\n",
       "        vertical-align: middle;\n",
       "    }\n",
       "\n",
       "    .dataframe tbody tr th {\n",
       "        vertical-align: top;\n",
       "    }\n",
       "\n",
       "    .dataframe thead th {\n",
       "        text-align: right;\n",
       "    }\n",
       "</style>\n",
       "<table border=\"1\" class=\"dataframe\">\n",
       "  <thead>\n",
       "    <tr style=\"text-align: right;\">\n",
       "      <th></th>\n",
       "      <th>idListaCobro</th>\n",
       "      <th>idCredito</th>\n",
       "      <th>consecutivoCobro</th>\n",
       "      <th>idBanco</th>\n",
       "      <th>montoExigible</th>\n",
       "      <th>montoCobrar</th>\n",
       "      <th>montoCobrado</th>\n",
       "      <th>fechaCobroBanco</th>\n",
       "      <th>idRespuestaBanco</th>\n",
       "    </tr>\n",
       "  </thead>\n",
       "  <tbody>\n",
       "    <tr>\n",
       "      <th>0</th>\n",
       "      <td>155938</td>\n",
       "      <td>738973</td>\n",
       "      <td>41396434</td>\n",
       "      <td>2</td>\n",
       "      <td>622.87</td>\n",
       "      <td>622.87</td>\n",
       "      <td>0.00</td>\n",
       "      <td>NaN</td>\n",
       "      <td>4.0</td>\n",
       "    </tr>\n",
       "    <tr>\n",
       "      <th>1</th>\n",
       "      <td>155938</td>\n",
       "      <td>739017</td>\n",
       "      <td>41396435</td>\n",
       "      <td>2</td>\n",
       "      <td>1069.11</td>\n",
       "      <td>1069.11</td>\n",
       "      <td>0.00</td>\n",
       "      <td>NaN</td>\n",
       "      <td>4.0</td>\n",
       "    </tr>\n",
       "    <tr>\n",
       "      <th>2</th>\n",
       "      <td>155939</td>\n",
       "      <td>739185</td>\n",
       "      <td>41396436</td>\n",
       "      <td>2</td>\n",
       "      <td>4340.83</td>\n",
       "      <td>4340.83</td>\n",
       "      <td>4340.83</td>\n",
       "      <td>02/01/2025</td>\n",
       "      <td>0.0</td>\n",
       "    </tr>\n",
       "    <tr>\n",
       "      <th>3</th>\n",
       "      <td>155940</td>\n",
       "      <td>732324</td>\n",
       "      <td>41396437</td>\n",
       "      <td>2</td>\n",
       "      <td>2134.21</td>\n",
       "      <td>2134.21</td>\n",
       "      <td>0.00</td>\n",
       "      <td>NaN</td>\n",
       "      <td>4.0</td>\n",
       "    </tr>\n",
       "    <tr>\n",
       "      <th>4</th>\n",
       "      <td>155940</td>\n",
       "      <td>737028</td>\n",
       "      <td>41396438</td>\n",
       "      <td>2</td>\n",
       "      <td>815.76</td>\n",
       "      <td>815.76</td>\n",
       "      <td>0.00</td>\n",
       "      <td>NaN</td>\n",
       "      <td>4.0</td>\n",
       "    </tr>\n",
       "  </tbody>\n",
       "</table>\n",
       "</div>"
      ],
      "text/plain": [
       "   idListaCobro  idCredito  consecutivoCobro  idBanco  montoExigible  \\\n",
       "0        155938     738973          41396434        2         622.87   \n",
       "1        155938     739017          41396435        2        1069.11   \n",
       "2        155939     739185          41396436        2        4340.83   \n",
       "3        155940     732324          41396437        2        2134.21   \n",
       "4        155940     737028          41396438        2         815.76   \n",
       "\n",
       "   montoCobrar  montoCobrado fechaCobroBanco  idRespuestaBanco  \n",
       "0       622.87          0.00             NaN               4.0  \n",
       "1      1069.11          0.00             NaN               4.0  \n",
       "2      4340.83       4340.83      02/01/2025               0.0  \n",
       "3      2134.21          0.00             NaN               4.0  \n",
       "4       815.76          0.00             NaN               4.0  "
      ]
     },
     "execution_count": 47,
     "metadata": {},
     "output_type": "execute_result"
    }
   ],
   "source": [
    "df = pd.read_csv('Data/ListaCobroDetalle2025.csv')\n",
    "print (df.shape)\n",
    "df.head()\n"
   ]
  },
  {
   "cell_type": "code",
   "execution_count": 48,
   "id": "ad9c3122",
   "metadata": {
    "vscode": {
     "languageId": "javascript"
    }
   },
   "outputs": [
    {
     "data": {
      "text/html": [
       "<div>\n",
       "<style scoped>\n",
       "    .dataframe tbody tr th:only-of-type {\n",
       "        vertical-align: middle;\n",
       "    }\n",
       "\n",
       "    .dataframe tbody tr th {\n",
       "        vertical-align: top;\n",
       "    }\n",
       "\n",
       "    .dataframe thead th {\n",
       "        text-align: right;\n",
       "    }\n",
       "</style>\n",
       "<table border=\"1\" class=\"dataframe\">\n",
       "  <thead>\n",
       "    <tr style=\"text-align: right;\">\n",
       "      <th></th>\n",
       "      <th>idListaCobro</th>\n",
       "      <th>idCredito</th>\n",
       "      <th>consecutivoCobro</th>\n",
       "      <th>idBanco</th>\n",
       "      <th>montoExigible</th>\n",
       "      <th>montoCobrar</th>\n",
       "      <th>montoCobrado</th>\n",
       "      <th>fechaCobroBanco</th>\n",
       "      <th>idRespuestaBanco</th>\n",
       "    </tr>\n",
       "  </thead>\n",
       "  <tbody>\n",
       "    <tr>\n",
       "      <th>0</th>\n",
       "      <td>155938</td>\n",
       "      <td>738973</td>\n",
       "      <td>41396434</td>\n",
       "      <td>2</td>\n",
       "      <td>622.87</td>\n",
       "      <td>622.87</td>\n",
       "      <td>0.00</td>\n",
       "      <td>NaT</td>\n",
       "      <td>4.0</td>\n",
       "    </tr>\n",
       "    <tr>\n",
       "      <th>1</th>\n",
       "      <td>155938</td>\n",
       "      <td>739017</td>\n",
       "      <td>41396435</td>\n",
       "      <td>2</td>\n",
       "      <td>1069.11</td>\n",
       "      <td>1069.11</td>\n",
       "      <td>0.00</td>\n",
       "      <td>NaT</td>\n",
       "      <td>4.0</td>\n",
       "    </tr>\n",
       "    <tr>\n",
       "      <th>2</th>\n",
       "      <td>155939</td>\n",
       "      <td>739185</td>\n",
       "      <td>41396436</td>\n",
       "      <td>2</td>\n",
       "      <td>4340.83</td>\n",
       "      <td>4340.83</td>\n",
       "      <td>4340.83</td>\n",
       "      <td>2025-02-01</td>\n",
       "      <td>0.0</td>\n",
       "    </tr>\n",
       "    <tr>\n",
       "      <th>3</th>\n",
       "      <td>155940</td>\n",
       "      <td>732324</td>\n",
       "      <td>41396437</td>\n",
       "      <td>2</td>\n",
       "      <td>2134.21</td>\n",
       "      <td>2134.21</td>\n",
       "      <td>0.00</td>\n",
       "      <td>NaT</td>\n",
       "      <td>4.0</td>\n",
       "    </tr>\n",
       "    <tr>\n",
       "      <th>4</th>\n",
       "      <td>155940</td>\n",
       "      <td>737028</td>\n",
       "      <td>41396438</td>\n",
       "      <td>2</td>\n",
       "      <td>815.76</td>\n",
       "      <td>815.76</td>\n",
       "      <td>0.00</td>\n",
       "      <td>NaT</td>\n",
       "      <td>4.0</td>\n",
       "    </tr>\n",
       "  </tbody>\n",
       "</table>\n",
       "</div>"
      ],
      "text/plain": [
       "   idListaCobro  idCredito  consecutivoCobro  idBanco  montoExigible  \\\n",
       "0        155938     738973          41396434        2         622.87   \n",
       "1        155938     739017          41396435        2        1069.11   \n",
       "2        155939     739185          41396436        2        4340.83   \n",
       "3        155940     732324          41396437        2        2134.21   \n",
       "4        155940     737028          41396438        2         815.76   \n",
       "\n",
       "   montoCobrar  montoCobrado fechaCobroBanco  idRespuestaBanco  \n",
       "0       622.87          0.00             NaT               4.0  \n",
       "1      1069.11          0.00             NaT               4.0  \n",
       "2      4340.83       4340.83      2025-02-01               0.0  \n",
       "3      2134.21          0.00             NaT               4.0  \n",
       "4       815.76          0.00             NaT               4.0  "
      ]
     },
     "execution_count": 48,
     "metadata": {},
     "output_type": "execute_result"
    }
   ],
   "source": [
    "df_selected = df[['idListaCobro', 'idCredito', 'consecutivoCobro', 'idBanco', 'montoExigible', 'montoCobrar', 'montoCobrado', 'fechaCobroBanco', 'idRespuestaBanco']]\n",
    "df_selected = df_selected.astype({\n",
    "    'idListaCobro': 'int64',\n",
    "    'idCredito': 'int64',\n",
    "    'consecutivoCobro': 'int64',\n",
    "    'idBanco': 'int64',\n",
    "    'montoExigible': 'float64',\n",
    "    'montoCobrar': 'float64',\n",
    "    'montoCobrado': 'float64',\n",
    "    'idRespuestaBanco': 'float64'\n",
    "})\n",
    "df_selected['fechaCobroBanco'] = pd.to_datetime(df_selected['fechaCobroBanco'], errors='coerce')\n",
    "df_selected.head()"
   ]
  },
  {
   "cell_type": "code",
   "execution_count": 49,
   "id": "9e31e07e",
   "metadata": {},
   "outputs": [
    {
     "name": "stdout",
     "output_type": "stream",
     "text": [
      "idCredito\n",
      "9872      18\n",
      "10983      3\n",
      "30466     18\n",
      "31375      2\n",
      "33591      3\n",
      "          ..\n",
      "755683     1\n",
      "755695     1\n",
      "755726     1\n",
      "755859    16\n",
      "756595     5\n",
      "Length: 28602, dtype: int64\n",
      "1116\n",
      "1\n"
     ]
    }
   ],
   "source": [
    "df_grouped = df_selected.sort_values('fechaCobroBanco').groupby('idCredito')\n",
    "print(df_grouped.size())\n",
    "print(df_grouped.size().max())\n",
    "print(df_grouped.size().min())"
   ]
  },
  {
   "cell_type": "code",
   "execution_count": 50,
   "id": "a6378891",
   "metadata": {},
   "outputs": [
    {
     "name": "stdout",
     "output_type": "stream",
     "text": [
      "28602\n"
     ]
    }
   ],
   "source": [
    "# Imprimeme cuantas ids hay y cuantas son unicas\n",
    "print(df_grouped.size().count())"
   ]
  },
  {
   "cell_type": "code",
   "execution_count": 51,
   "id": "751de65d",
   "metadata": {},
   "outputs": [
    {
     "name": "stdout",
     "output_type": "stream",
     "text": [
      "idListaCobro                 int64\n",
      "idCredito                    int64\n",
      "consecutivoCobro             int64\n",
      "idBanco                      int64\n",
      "montoExigible              float64\n",
      "montoCobrar                float64\n",
      "montoCobrado               float64\n",
      "fechaCobroBanco     datetime64[ns]\n",
      "idRespuestaBanco           float64\n",
      "dtype: object\n"
     ]
    }
   ],
   "source": [
    "# Ahora imprime las variables y sus tipos\n",
    "print(df_selected.dtypes)"
   ]
  },
  {
   "cell_type": "code",
   "execution_count": 52,
   "id": "1b21c69f",
   "metadata": {},
   "outputs": [
    {
     "data": {
      "text/plain": [
       "idListaCobro                 int64\n",
       "idCredito                    int64\n",
       "consecutivoCobro             int64\n",
       "idBanco                   category\n",
       "montoExigible              float64\n",
       "montoCobrar                float64\n",
       "montoCobrado               float64\n",
       "fechaCobroBanco     datetime64[ns]\n",
       "idRespuestaBanco          category\n",
       "dtype: object"
      ]
     },
     "execution_count": 52,
     "metadata": {},
     "output_type": "execute_result"
    }
   ],
   "source": [
    "# Transformar variables adecuadas a tipo categórico\n",
    "categorical_columns = ['idBanco', 'idRespuestaBanco']\n",
    "df_selected[categorical_columns] = df_selected[categorical_columns].astype('category')\n",
    "df_selected.dtypes"
   ]
  },
  {
   "cell_type": "code",
   "execution_count": 56,
   "id": "5c10a7ec",
   "metadata": {},
   "outputs": [],
   "source": [
    "# aplica dummies a las variables categóricas y pasalos a 01\n",
    "df_dummies = pd.get_dummies(df_selected, columns=categorical_columns)\n",
    "# Todos los bools pasan a 0 y 1, checa todas las variables bool a int8\n",
    "df_dummies = df_dummies.astype({col: np.int8 for col in df_dummies.select_dtypes(include=[bool]).columns})\n"
   ]
  },
  {
   "cell_type": "code",
   "execution_count": 54,
   "id": "04b983e4",
   "metadata": {},
   "outputs": [
    {
     "name": "stdout",
     "output_type": "stream",
     "text": [
      "idListaCobro                      int64\n",
      "idCredito                         int64\n",
      "consecutivoCobro                  int64\n",
      "montoExigible                   float64\n",
      "montoCobrar                     float64\n",
      "montoCobrado                    float64\n",
      "fechaCobroBanco          datetime64[ns]\n",
      "idBanco_2                          bool\n",
      "idBanco_12                         bool\n",
      "idBanco_14                         bool\n",
      "idBanco_21                         bool\n",
      "idBanco_30                         bool\n",
      "idBanco_36                         bool\n",
      "idBanco_44                         bool\n",
      "idBanco_58                         bool\n",
      "idBanco_62                         bool\n",
      "idBanco_72                         bool\n",
      "idBanco_127                        bool\n",
      "idBanco_132                        bool\n",
      "idBanco_137                        bool\n",
      "idBanco_166                        bool\n",
      "idRespuestaBanco_0.0               bool\n",
      "idRespuestaBanco_1.0               bool\n",
      "idRespuestaBanco_2.0               bool\n",
      "idRespuestaBanco_3.0               bool\n",
      "idRespuestaBanco_4.0               bool\n",
      "idRespuestaBanco_6.0               bool\n",
      "idRespuestaBanco_8.0               bool\n",
      "idRespuestaBanco_10.0              bool\n",
      "idRespuestaBanco_13.0              bool\n",
      "idRespuestaBanco_26.0              bool\n",
      "idRespuestaBanco_30.0              bool\n",
      "idRespuestaBanco_36.0              bool\n",
      "idRespuestaBanco_40.0              bool\n",
      "idRespuestaBanco_88.0              bool\n",
      "dtype: object\n"
     ]
    }
   ],
   "source": [
    "print(df_dummies.dtypes)"
   ]
  },
  {
   "cell_type": "code",
   "execution_count": 55,
   "id": "49a5f968",
   "metadata": {},
   "outputs": [],
   "source": [
    "# Guarda la version limpia como Data/CleanedData.csv\n",
    "df_dummies.to_csv('Data/CleanedData.csv', index=False)"
   ]
  },
  {
   "cell_type": "code",
   "execution_count": null,
   "id": "2047cbcf",
   "metadata": {},
   "outputs": [],
   "source": []
  }
 ],
 "metadata": {
  "kernelspec": {
   "display_name": "MLearn",
   "language": "python",
   "name": "python3"
  },
  "language_info": {
   "codemirror_mode": {
    "name": "ipython",
    "version": 3
   },
   "file_extension": ".py",
   "mimetype": "text/x-python",
   "name": "python",
   "nbconvert_exporter": "python",
   "pygments_lexer": "ipython3",
   "version": "3.11.8"
  }
 },
 "nbformat": 4,
 "nbformat_minor": 5
}
