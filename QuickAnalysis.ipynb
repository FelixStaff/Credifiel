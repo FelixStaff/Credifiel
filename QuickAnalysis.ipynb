{
 "cells": [
  {
   "cell_type": "code",
   "execution_count": 1,
   "id": "f298ad9c",
   "metadata": {},
   "outputs": [],
   "source": [
    "# Leemos los datos y separamos las columnas\n",
    "import pandas as pd\n",
    "import numpy as np\n",
    "import sklearn as sk"
   ]
  },
  {
   "cell_type": "code",
   "execution_count": 20,
   "id": "550ea0d4",
   "metadata": {},
   "outputs": [
    {
     "name": "stdout",
     "output_type": "stream",
     "text": [
      "(2114172, 15)\n",
      "(28602, 2)\n",
      "15511\n",
      "2057164\n"
     ]
    }
   ],
   "source": [
    "df = pd.read_csv('Data/Estrategias.csv')\n",
    "print (df.shape)\n",
    "\n",
    "# Cargamos las predicciones\n",
    "df_pred = pd.read_csv('Predicciones.csv')\n",
    "print(df_pred.shape)\n",
    "\n",
    "# Agrupamos por idCredito\n",
    "groups = df.groupby('idCredito')\n",
    "# Ahora cuenta cuantos grupos tienen mas de 1 fila\n",
    "# y los guardamos en una lista\n",
    "groups = [group for name, group in groups if len(group) > 10]\n",
    "print(len(groups))\n",
    "# Ahora de los grupos que no tienen un 1, suma todos las longitudes de esos valores\n",
    "# y imprimimos el resultado\n",
    "print(sum([len(group) for group in groups if not (group['Estrategia'] == 1).any()]))"
   ]
  },
  {
   "cell_type": "code",
   "execution_count": 18,
   "id": "33d630f7",
   "metadata": {},
   "outputs": [
    {
     "name": "stdout",
     "output_type": "stream",
     "text": [
      "1509\n"
     ]
    }
   ],
   "source": [
    "# Ahora de ese grupo, vemos cuantos tienen por lo menos un 1 en prediccion\n",
    "groups = [group for group in groups if len(group[group['prediccion'] == 1]) > 0]\n",
    "print(len(groups))"
   ]
  },
  {
   "cell_type": "code",
   "execution_count": 19,
   "id": "d8ba34fe",
   "metadata": {},
   "outputs": [
    {
     "name": "stdout",
     "output_type": "stream",
     "text": [
      "Porcentaje de grupos con al menos un 1 en prediccion:  0.07137546046395468\n"
     ]
    }
   ],
   "source": [
    "# Ahora tenemos que imprimir el porcentaje\n",
    "print('Porcentaje de grupos con al menos un 1 en prediccion: ', len(groups) / len(df) * 100)"
   ]
  },
  {
   "cell_type": "code",
   "execution_count": null,
   "id": "9817df58",
   "metadata": {},
   "outputs": [],
   "source": [
    "# Visualizamos los datos en base a la estrategia\n",
    "import matplotlib.pyplot as plt"
   ]
  },
  {
   "cell_type": "code",
   "execution_count": null,
   "id": "c4daf644",
   "metadata": {},
   "outputs": [],
   "source": []
  }
 ],
 "metadata": {
  "kernelspec": {
   "display_name": "MLearn",
   "language": "python",
   "name": "python3"
  },
  "language_info": {
   "codemirror_mode": {
    "name": "ipython",
    "version": 3
   },
   "file_extension": ".py",
   "mimetype": "text/x-python",
   "name": "python",
   "nbconvert_exporter": "python",
   "pygments_lexer": "ipython3",
   "version": "3.11.8"
  }
 },
 "nbformat": 4,
 "nbformat_minor": 5
}
